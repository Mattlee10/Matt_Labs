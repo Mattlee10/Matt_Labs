{
  "nbformat": 4,
  "nbformat_minor": 0,
  "metadata": {
    "colab": {
      "provenance": [],
      "mount_file_id": "1mSnCJ6tCjhHRJMVUuKGk2ciOlHU_BNvb",
      "authorship_tag": "ABX9TyOJiHHG8f7MzJovw0ryEBmo",
      "include_colab_link": true
    },
    "kernelspec": {
      "name": "python3",
      "display_name": "Python 3"
    },
    "language_info": {
      "name": "python"
    }
  },
  "cells": [
    {
      "cell_type": "markdown",
      "metadata": {
        "id": "view-in-github",
        "colab_type": "text"
      },
      "source": [
        "<a href=\"https://colab.research.google.com/github/Mattlee10/zone2/blob/main/25_05.ipynb\" target=\"_parent\"><img src=\"https://colab.research.google.com/assets/colab-badge.svg\" alt=\"Open In Colab\"/></a>"
      ]
    },
    {
      "cell_type": "markdown",
      "source": [
        "# 데이터 수집"
      ],
      "metadata": {
        "id": "WlqjDadakp12"
      }
    },
    {
      "cell_type": "code",
      "source": [
        "import xml.etree.ElementTree as ET\n",
        "import pandas as pd\n",
        "\n",
        "def parse_health_export(xml_path, record_types=None):\n",
        "    \"\"\"\n",
        "    Apple Health Export XML에서 원하는 Record Type만 추출\n",
        "    \"\"\"\n",
        "    tree = ET.parse(xml_path)\n",
        "    root = tree.getroot()\n",
        "    records = []\n",
        "\n",
        "    for rec in root.findall('Record'):\n",
        "        rtype = rec.get('type')\n",
        "        if record_types and rtype not in record_types:\n",
        "            continue\n",
        "        val = rec.get('value')\n",
        "        if val is None:\n",
        "            continue\n",
        "        records.append({\n",
        "            'type': rtype,\n",
        "            'value': float(val),\n",
        "            'unit': rec.get('unit'),\n",
        "            'start': pd.to_datetime(rec.get('startDate')),\n",
        "            'end': pd.to_datetime(rec.get('endDate'))\n",
        "        })\n",
        "\n",
        "    return pd.DataFrame(records)\n",
        "\n",
        "# XML 경로 설정 (Google Drive에서 마운트한 경로 또는 Colab 업로드 경로)\n",
        "xml_path = '/content/drive/MyDrive/export_L.xml'\n",
        "\n",
        "# 필요 Record Type 정의\n",
        "record_types = [\n",
        "    'HKQuantityTypeIdentifierHeartRate',\n",
        "    'HKQuantityTypeIdentifierRestingHeartRate',\n",
        "    'HKQuantityTypeIdentifierHeartRateVariabilitySDNN'\n",
        "]\n",
        "\n",
        "# 파싱 실행\n",
        "df = parse_health_export(xml_path, record_types=record_types)\n",
        "\n",
        "# 결과 미리보기\n",
        "print(df.head())"
      ],
      "metadata": {
        "colab": {
          "base_uri": "https://localhost:8080/"
        },
        "id": "2UR4MnS6iu_Y",
        "outputId": "e7c98049-ce53-4f6d-d70e-2034dc6364e0"
      },
      "execution_count": 5,
      "outputs": [
        {
          "output_type": "stream",
          "name": "stdout",
          "text": [
            "                                type    value       unit  \\\n",
            "0  HKQuantityTypeIdentifierHeartRate  80.0000  count/min   \n",
            "1  HKQuantityTypeIdentifierHeartRate  82.0000  count/min   \n",
            "2  HKQuantityTypeIdentifierHeartRate  88.0000  count/min   \n",
            "3  HKQuantityTypeIdentifierHeartRate  69.0000  count/min   \n",
            "4  HKQuantityTypeIdentifierHeartRate  81.6192  count/min   \n",
            "\n",
            "                      start                       end  \n",
            "0 2024-10-10 13:09:52+09:00 2024-10-10 13:09:52+09:00  \n",
            "1 2024-10-10 13:11:37+09:00 2024-10-10 13:11:37+09:00  \n",
            "2 2024-10-10 13:17:00+09:00 2024-10-10 13:17:00+09:00  \n",
            "3 2024-10-10 13:22:03+09:00 2024-10-10 13:22:03+09:00  \n",
            "4 2024-10-10 13:27:40+09:00 2024-10-10 13:27:40+09:00  \n"
          ]
        }
      ]
    },
    {
      "cell_type": "markdown",
      "source": [
        "# 데이터 전처리"
      ],
      "metadata": {
        "id": "LV37IEC8kwaX"
      }
    },
    {
      "cell_type": "code",
      "source": [
        "import pandas as pd\n",
        "\n",
        "# ----------------------------\n",
        "# 1. 회복/스트레스 분석용 전처리\n",
        "# ----------------------------\n",
        "def preprocess_recovery(df, start_date=\"2025-04-01\", end_date=\"2025-04-30\"):\n",
        "    \"\"\"HRV + RHR 데이터를 날짜별 평균 및 기준선 포함 형식으로 정리\"\"\"\n",
        "\n",
        "    # 필터링\n",
        "    df_hrv = df[df['type'] == 'HKQuantityTypeIdentifierHeartRateVariabilitySDNN'].copy()\n",
        "    df_rhr = df[df['type'] == 'HKQuantityTypeIdentifierRestingHeartRate'].copy()\n",
        "\n",
        "    # 날짜 파싱\n",
        "    df_hrv['date'] = df_hrv['start'].dt.date\n",
        "    df_rhr['date'] = df_rhr['start'].dt.date\n",
        "\n",
        "    # 기간 필터\n",
        "    start = pd.to_datetime(start_date).date()\n",
        "    end = pd.to_datetime(end_date).date()\n",
        "\n",
        "    df_hrv = df_hrv[(df_hrv['date'] >= start) & (df_hrv['date'] <= end)]\n",
        "    df_rhr = df_rhr[(df_rhr['date'] >= start) & (df_rhr['date'] <= end)]\n",
        "\n",
        "    # 일별 평균\n",
        "    df_hrv_daily = df_hrv.groupby('date')['value'].mean().reset_index().rename(columns={'value': 'hrv'})\n",
        "    df_rhr_daily = df_rhr.groupby('date')['value'].mean().reset_index().rename(columns={'value': 'rhr'})\n",
        "\n",
        "    # 병합\n",
        "    df_daily = pd.merge(df_hrv_daily, df_rhr_daily, on='date', how='inner')\n",
        "\n",
        "    return df_daily"
      ],
      "metadata": {
        "id": "nieZza-RmeQG"
      },
      "execution_count": 7,
      "outputs": []
    },
    {
      "cell_type": "code",
      "source": [
        "# ----------------------------\n",
        "# 2. Zone 2 감지용 전처리\n",
        "# ----------------------------\n",
        "def preprocess_zone2(df, start_date=\"2025-04-01\", end_date=\"2025-04-30\", resample_interval='1min'):\n",
        "    \"\"\"HR 데이터를 시간 순 정렬 + 지정 간격으로 리샘플링\"\"\"\n",
        "\n",
        "    df_hr = df[df['type'] == 'HKQuantityTypeIdentifierHeartRate'].copy()\n",
        "    df_hr['timestamp'] = df_hr['start']\n",
        "\n",
        "    # 시간 필터\n",
        "    df_hr = df_hr[(df_hr['timestamp'] >= start_date) & (df_hr['timestamp'] <= end_date)]\n",
        "\n",
        "    # 인덱스 설정 및 정렬\n",
        "    df_hr = df_hr.set_index('timestamp').sort_index()\n",
        "\n",
        "    # 리샘플링: 평균값 기준 (예: 1분 간격)\n",
        "    df_resampled = df_hr['value'].resample(resample_interval).mean().reset_index()\n",
        "    df_resampled.columns = ['timestamp', 'hr']\n",
        "\n",
        "    return df_resampled"
      ],
      "metadata": {
        "id": "zEkjQ84RmfhT"
      },
      "execution_count": 8,
      "outputs": []
    }
  ]
}