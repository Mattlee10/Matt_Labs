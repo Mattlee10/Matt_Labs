{
  "nbformat": 4,
  "nbformat_minor": 0,
  "metadata": {
    "colab": {
      "provenance": [],
      "mount_file_id": "1mSnCJ6tCjhHRJMVUuKGk2ciOlHU_BNvb",
      "authorship_tag": "ABX9TyNdyJ0grqttIEIJ5rFgoBmI",
      "include_colab_link": true
    },
    "kernelspec": {
      "name": "python3",
      "display_name": "Python 3"
    },
    "language_info": {
      "name": "python"
    }
  },
  "cells": [
    {
      "cell_type": "markdown",
      "metadata": {
        "id": "view-in-github",
        "colab_type": "text"
      },
      "source": [
        "<a href=\"https://colab.research.google.com/github/Mattlee10/zone2/blob/main/25_05.ipynb\" target=\"_parent\"><img src=\"https://colab.research.google.com/assets/colab-badge.svg\" alt=\"Open In Colab\"/></a>"
      ]
    },
    {
      "cell_type": "markdown",
      "source": [
        "# 데이터 수집"
      ],
      "metadata": {
        "id": "WlqjDadakp12"
      }
    },
    {
      "cell_type": "code",
      "source": [
        "import xml.etree.ElementTree as ET\n",
        "import pandas as pd\n",
        "\n",
        "def parse_health_export(xml_path, record_types=None):\n",
        "    \"\"\"\n",
        "    Apple Health Export XML에서 원하는 Record Type만 추출\n",
        "    \"\"\"\n",
        "    tree = ET.parse(xml_path)\n",
        "    root = tree.getroot()\n",
        "    records = []\n",
        "\n",
        "    for rec in root.findall('Record'):\n",
        "        rtype = rec.get('type')\n",
        "        if record_types and rtype not in record_types:\n",
        "            continue\n",
        "        val = rec.get('value')\n",
        "        if val is None:\n",
        "            continue\n",
        "        records.append({\n",
        "            'type': rtype,\n",
        "            'value': float(val),\n",
        "            'unit': rec.get('unit'),\n",
        "            'start': pd.to_datetime(rec.get('startDate')),\n",
        "            'end': pd.to_datetime(rec.get('endDate'))\n",
        "        })\n",
        "\n",
        "    return pd.DataFrame(records)\n",
        "\n",
        "# XML 경로 설정 (Google Drive에서 마운트한 경로 또는 Colab 업로드 경로)\n",
        "xml_path = '/content/drive/MyDrive/Export_ds.xml'\n",
        "\n",
        "# 필요 Record Type 정의\n",
        "record_types = [\n",
        "    'HKQuantityTypeIdentifierHeartRate',\n",
        "    'HKQuantityTypeIdentifierRestingHeartRate',\n",
        "    'HKQuantityTypeIdentifierHeartRateVariabilitySDNN'\n",
        "]\n",
        "\n",
        "# 파싱 실행\n",
        "df = parse_health_export(xml_path, record_types=record_types)\n",
        "\n",
        "# 결과 미리보기\n",
        "print(df.head())"
      ],
      "metadata": {
        "colab": {
          "base_uri": "https://localhost:8080/"
        },
        "id": "2UR4MnS6iu_Y",
        "outputId": "c4b961a8-dd84-4290-dbe7-c4cdd0381e69"
      },
      "execution_count": 1,
      "outputs": [
        {
          "output_type": "stream",
          "name": "stdout",
          "text": [
            "                                type    value       unit  \\\n",
            "0  HKQuantityTypeIdentifierHeartRate  66.0000  count/min   \n",
            "1  HKQuantityTypeIdentifierHeartRate  77.0000  count/min   \n",
            "2  HKQuantityTypeIdentifierHeartRate  71.9442  count/min   \n",
            "3  HKQuantityTypeIdentifierHeartRate  70.0000  count/min   \n",
            "4  HKQuantityTypeIdentifierHeartRate  75.0000  count/min   \n",
            "\n",
            "                      start                       end  \n",
            "0 2021-06-24 22:43:39+09:00 2021-06-24 22:43:39+09:00  \n",
            "1 2021-06-24 22:44:53+09:00 2021-06-24 22:44:53+09:00  \n",
            "2 2021-06-24 22:49:47+09:00 2021-06-24 22:49:47+09:00  \n",
            "3 2021-06-24 22:50:54+09:00 2021-06-24 22:50:54+09:00  \n",
            "4 2021-06-24 23:00:35+09:00 2021-06-24 23:00:35+09:00  \n"
          ]
        }
      ]
    },
    {
      "cell_type": "markdown",
      "source": [
        "# 데이터 전처리"
      ],
      "metadata": {
        "id": "LV37IEC8kwaX"
      }
    },
    {
      "cell_type": "markdown",
      "source": [
        "- 사용자 정보 입력 및 RHR 추정"
      ],
      "metadata": {
        "id": "5tq9uGJiIDsY"
      }
    },
    {
      "cell_type": "code",
      "source": [
        "# 사용자 정보\n",
        "age = 31  # 사용자 나이에 맞게 수정\n",
        "mhr = 220 - age  # 최대 심박수\n",
        "\n",
        "# 안정심박수 평균 계산\n",
        "rhr_df = df[df['type'] == 'HKQuantityTypeIdentifierRestingHeartRate']\n",
        "rhr = rhr_df['value'].mean()\n",
        "print(f\"평균 안정심박수 (RHR): {rhr:.2f} bpm\")"
      ],
      "metadata": {
        "colab": {
          "base_uri": "https://localhost:8080/"
        },
        "id": "KtIqWVZkIGuJ",
        "outputId": "413c7a63-f1a1-442f-901b-375c30947e41"
      },
      "execution_count": 2,
      "outputs": [
        {
          "output_type": "stream",
          "name": "stdout",
          "text": [
            "평균 안정심박수 (RHR): 62.70 bpm\n"
          ]
        }
      ]
    },
    {
      "cell_type": "markdown",
      "source": [
        "- 실시간 HR 데이터 필터링"
      ],
      "metadata": {
        "id": "aBjWZTUXILb9"
      }
    },
    {
      "cell_type": "code",
      "source": [
        "# 실시간 심박수만 필터링\n",
        "hr_df = df[df['type'] == 'HKQuantityTypeIdentifierHeartRate'].copy()\n",
        "\n",
        "# 확인\n",
        "print(f\"심박수 데이터 개수: {len(hr_df)}\")\n",
        "print(hr_df.head())"
      ],
      "metadata": {
        "colab": {
          "base_uri": "https://localhost:8080/"
        },
        "id": "pK4yBiM4IN3r",
        "outputId": "ab3e038c-24b1-441a-de7f-5bd77a31df79"
      },
      "execution_count": 3,
      "outputs": [
        {
          "output_type": "stream",
          "name": "stdout",
          "text": [
            "심박수 데이터 개수: 367494\n",
            "                                type    value       unit  \\\n",
            "0  HKQuantityTypeIdentifierHeartRate  66.0000  count/min   \n",
            "1  HKQuantityTypeIdentifierHeartRate  77.0000  count/min   \n",
            "2  HKQuantityTypeIdentifierHeartRate  71.9442  count/min   \n",
            "3  HKQuantityTypeIdentifierHeartRate  70.0000  count/min   \n",
            "4  HKQuantityTypeIdentifierHeartRate  75.0000  count/min   \n",
            "\n",
            "                      start                       end  \n",
            "0 2021-06-24 22:43:39+09:00 2021-06-24 22:43:39+09:00  \n",
            "1 2021-06-24 22:44:53+09:00 2021-06-24 22:44:53+09:00  \n",
            "2 2021-06-24 22:49:47+09:00 2021-06-24 22:49:47+09:00  \n",
            "3 2021-06-24 22:50:54+09:00 2021-06-24 22:50:54+09:00  \n",
            "4 2021-06-24 23:00:35+09:00 2021-06-24 23:00:35+09:00  \n"
          ]
        }
      ]
    },
    {
      "cell_type": "markdown",
      "source": [
        "- Karvonen 기반 운동강도 비율(%) 계산"
      ],
      "metadata": {
        "id": "NIFavCd6IQyq"
      }
    },
    {
      "cell_type": "code",
      "source": [
        "# 운동강도 비율(%) 계산\n",
        "hr_df['intensity_pct'] = ((hr_df['value'] - rhr) / (mhr - rhr)) * 100\n",
        "\n",
        "# 0~100%로 범위 제한\n",
        "hr_df['intensity_pct'] = hr_df['intensity_pct'].clip(lower=0, upper=100)\n",
        "\n",
        "# 샘플 확인\n",
        "print(hr_df[['start', 'value', 'intensity_pct']].head())"
      ],
      "metadata": {
        "colab": {
          "base_uri": "https://localhost:8080/"
        },
        "id": "g1w7spbSIVDk",
        "outputId": "ba9cca8f-6fda-4b41-c9a4-2074a54d59ef"
      },
      "execution_count": 4,
      "outputs": [
        {
          "output_type": "stream",
          "name": "stdout",
          "text": [
            "                      start    value  intensity_pct\n",
            "0 2021-06-24 22:43:39+09:00  66.0000       2.611156\n",
            "1 2021-06-24 22:44:53+09:00  77.0000      11.320728\n",
            "2 2021-06-24 22:49:47+09:00  71.9442       7.317650\n",
            "3 2021-06-24 22:50:54+09:00  70.0000       5.778273\n",
            "4 2021-06-24 23:00:35+09:00  75.0000       9.737169\n"
          ]
        }
      ]
    },
    {
      "cell_type": "markdown",
      "source": [
        "- 10% 단위 구간 분류 및 머문 시간 비율 계산"
      ],
      "metadata": {
        "id": "iN4CN0tYIXzn"
      }
    },
    {
      "cell_type": "code",
      "source": [
        "# 구간 정의\n",
        "import numpy as np\n",
        "bins = np.arange(0, 110, 10)\n",
        "labels = [f\"{i}~{i+10}%\" for i in bins[:-1]]\n",
        "\n",
        "# 구간별 분류\n",
        "hr_df['zone'] = pd.cut(hr_df['intensity_pct'], bins=bins, labels=labels, include_lowest=True)\n",
        "\n",
        "# 구간별 머문 비율 계산 (%)\n",
        "zone_pct = hr_df['zone'].value_counts(normalize=True).sort_index() * 100\n",
        "print(zone_pct)"
      ],
      "metadata": {
        "colab": {
          "base_uri": "https://localhost:8080/"
        },
        "id": "pgwNBHTNIavo",
        "outputId": "425048b9-eea4-4b3b-c3d6-ecf76ad6bb4f"
      },
      "execution_count": 5,
      "outputs": [
        {
          "output_type": "stream",
          "name": "stdout",
          "text": [
            "zone\n",
            "0~10%      24.242028\n",
            "10~20%     21.972059\n",
            "20~30%     19.634606\n",
            "30~40%     17.295520\n",
            "40~50%      9.338112\n",
            "50~60%      4.732594\n",
            "60~70%      1.913501\n",
            "70~80%      0.699875\n",
            "80~90%      0.154832\n",
            "90~100%     0.016871\n",
            "Name: proportion, dtype: float64\n"
          ]
        }
      ]
    },
    {
      "cell_type": "markdown",
      "source": [
        "# 시각화"
      ],
      "metadata": {
        "id": "M3zFUi3VI7FD"
      }
    },
    {
      "cell_type": "markdown",
      "source": [
        "- 날짜 필터링(5월 18일 - 5월 24일)"
      ],
      "metadata": {
        "id": "qaTCTW9XI9gH"
      }
    },
    {
      "cell_type": "code",
      "source": [
        "import pytz\n",
        "\n",
        "# 한국 시간대 객체 생성\n",
        "korea_tz = pytz.timezone(\"Asia/Seoul\")\n",
        "\n",
        "# tz-aware datetime으로 변환\n",
        "start_date = pd.Timestamp(\"2025-05-18\", tz=korea_tz)\n",
        "end_date = pd.Timestamp(\"2025-05-24 23:59:59\", tz=korea_tz)\n",
        "\n",
        "# 필터링\n",
        "hr_filtered = hr_df[(hr_df['start'] >= start_date) & (hr_df['start'] <= end_date)]"
      ],
      "metadata": {
        "id": "-bfyF4SVJA6V"
      },
      "execution_count": 7,
      "outputs": []
    },
    {
      "cell_type": "markdown",
      "source": [
        "- 필터된 데이터로 구간별 비율 재계산"
      ],
      "metadata": {
        "id": "UGhTjjSgJDN9"
      }
    },
    {
      "cell_type": "code",
      "source": [
        "# 구간별 비율 재계산 (필터된 데이터 기반)\n",
        "zone_pct_filtered = hr_filtered['zone'].value_counts(normalize=True).sort_index() * 100\n",
        "print(zone_pct_filtered)"
      ],
      "metadata": {
        "colab": {
          "base_uri": "https://localhost:8080/"
        },
        "id": "gDEkwXj6JHRG",
        "outputId": "31dc37e4-445e-4ec8-9933-9c0bf92da832"
      },
      "execution_count": 8,
      "outputs": [
        {
          "output_type": "stream",
          "name": "stdout",
          "text": [
            "zone\n",
            "0~10%       7.121623\n",
            "10~20%     11.063720\n",
            "20~30%     21.364870\n",
            "30~40%     24.440998\n",
            "40~50%     18.133644\n",
            "50~60%     11.309293\n",
            "60~70%      5.144113\n",
            "70~80%      1.331265\n",
            "80~90%      0.090474\n",
            "90~100%     0.000000\n",
            "Name: proportion, dtype: float64\n"
          ]
        }
      ]
    },
    {
      "cell_type": "markdown",
      "source": [
        "- 시각화"
      ],
      "metadata": {
        "id": "fPDFkuPzJLdl"
      }
    },
    {
      "cell_type": "code",
      "source": [
        "import matplotlib.pyplot as plt\n",
        "\n",
        "plt.figure(figsize=(10, 5))\n",
        "zone_pct_filtered.plot(kind='bar')\n",
        "plt.title('운동강도 구간별 머무른 비율 (2025-05-18 ~ 2025-05-24)')\n",
        "plt.xlabel('운동강도 (%)')\n",
        "plt.ylabel('시간 비율 (%)')\n",
        "plt.ylim(0, 100)\n",
        "plt.grid(axis='y')\n",
        "plt.tight_layout()\n",
        "plt.show()"
      ],
      "metadata": {
        "colab": {
          "base_uri": "https://localhost:8080/",
          "height": 1000
        },
        "id": "iJPal71hJMoC",
        "outputId": "a4c0b215-7ff4-4307-d51e-074e5787a353"
      },
      "execution_count": 9,
      "outputs": [
        {
          "output_type": "stream",
          "name": "stderr",
          "text": [
            "<ipython-input-9-6c2225420f79>:10: UserWarning: Glyph 50868 (\\N{HANGUL SYLLABLE UN}) missing from font(s) DejaVu Sans.\n",
            "  plt.tight_layout()\n",
            "<ipython-input-9-6c2225420f79>:10: UserWarning: Glyph 46041 (\\N{HANGUL SYLLABLE DONG}) missing from font(s) DejaVu Sans.\n",
            "  plt.tight_layout()\n",
            "<ipython-input-9-6c2225420f79>:10: UserWarning: Glyph 44053 (\\N{HANGUL SYLLABLE GANG}) missing from font(s) DejaVu Sans.\n",
            "  plt.tight_layout()\n",
            "<ipython-input-9-6c2225420f79>:10: UserWarning: Glyph 46020 (\\N{HANGUL SYLLABLE DO}) missing from font(s) DejaVu Sans.\n",
            "  plt.tight_layout()\n",
            "<ipython-input-9-6c2225420f79>:10: UserWarning: Glyph 49884 (\\N{HANGUL SYLLABLE SI}) missing from font(s) DejaVu Sans.\n",
            "  plt.tight_layout()\n",
            "<ipython-input-9-6c2225420f79>:10: UserWarning: Glyph 44036 (\\N{HANGUL SYLLABLE GAN}) missing from font(s) DejaVu Sans.\n",
            "  plt.tight_layout()\n",
            "<ipython-input-9-6c2225420f79>:10: UserWarning: Glyph 48708 (\\N{HANGUL SYLLABLE BI}) missing from font(s) DejaVu Sans.\n",
            "  plt.tight_layout()\n",
            "<ipython-input-9-6c2225420f79>:10: UserWarning: Glyph 50984 (\\N{HANGUL SYLLABLE YUL}) missing from font(s) DejaVu Sans.\n",
            "  plt.tight_layout()\n",
            "<ipython-input-9-6c2225420f79>:10: UserWarning: Glyph 44396 (\\N{HANGUL SYLLABLE GU}) missing from font(s) DejaVu Sans.\n",
            "  plt.tight_layout()\n",
            "<ipython-input-9-6c2225420f79>:10: UserWarning: Glyph 48324 (\\N{HANGUL SYLLABLE BYEOL}) missing from font(s) DejaVu Sans.\n",
            "  plt.tight_layout()\n",
            "<ipython-input-9-6c2225420f79>:10: UserWarning: Glyph 47672 (\\N{HANGUL SYLLABLE MEO}) missing from font(s) DejaVu Sans.\n",
            "  plt.tight_layout()\n",
            "<ipython-input-9-6c2225420f79>:10: UserWarning: Glyph 47924 (\\N{HANGUL SYLLABLE MU}) missing from font(s) DejaVu Sans.\n",
            "  plt.tight_layout()\n",
            "<ipython-input-9-6c2225420f79>:10: UserWarning: Glyph 47480 (\\N{HANGUL SYLLABLE REUN}) missing from font(s) DejaVu Sans.\n",
            "  plt.tight_layout()\n",
            "/usr/local/lib/python3.11/dist-packages/IPython/core/pylabtools.py:151: UserWarning: Glyph 49884 (\\N{HANGUL SYLLABLE SI}) missing from font(s) DejaVu Sans.\n",
            "  fig.canvas.print_figure(bytes_io, **kw)\n",
            "/usr/local/lib/python3.11/dist-packages/IPython/core/pylabtools.py:151: UserWarning: Glyph 44036 (\\N{HANGUL SYLLABLE GAN}) missing from font(s) DejaVu Sans.\n",
            "  fig.canvas.print_figure(bytes_io, **kw)\n",
            "/usr/local/lib/python3.11/dist-packages/IPython/core/pylabtools.py:151: UserWarning: Glyph 48708 (\\N{HANGUL SYLLABLE BI}) missing from font(s) DejaVu Sans.\n",
            "  fig.canvas.print_figure(bytes_io, **kw)\n",
            "/usr/local/lib/python3.11/dist-packages/IPython/core/pylabtools.py:151: UserWarning: Glyph 50984 (\\N{HANGUL SYLLABLE YUL}) missing from font(s) DejaVu Sans.\n",
            "  fig.canvas.print_figure(bytes_io, **kw)\n",
            "/usr/local/lib/python3.11/dist-packages/IPython/core/pylabtools.py:151: UserWarning: Glyph 50868 (\\N{HANGUL SYLLABLE UN}) missing from font(s) DejaVu Sans.\n",
            "  fig.canvas.print_figure(bytes_io, **kw)\n",
            "/usr/local/lib/python3.11/dist-packages/IPython/core/pylabtools.py:151: UserWarning: Glyph 46041 (\\N{HANGUL SYLLABLE DONG}) missing from font(s) DejaVu Sans.\n",
            "  fig.canvas.print_figure(bytes_io, **kw)\n",
            "/usr/local/lib/python3.11/dist-packages/IPython/core/pylabtools.py:151: UserWarning: Glyph 44053 (\\N{HANGUL SYLLABLE GANG}) missing from font(s) DejaVu Sans.\n",
            "  fig.canvas.print_figure(bytes_io, **kw)\n",
            "/usr/local/lib/python3.11/dist-packages/IPython/core/pylabtools.py:151: UserWarning: Glyph 46020 (\\N{HANGUL SYLLABLE DO}) missing from font(s) DejaVu Sans.\n",
            "  fig.canvas.print_figure(bytes_io, **kw)\n",
            "/usr/local/lib/python3.11/dist-packages/IPython/core/pylabtools.py:151: UserWarning: Glyph 44396 (\\N{HANGUL SYLLABLE GU}) missing from font(s) DejaVu Sans.\n",
            "  fig.canvas.print_figure(bytes_io, **kw)\n",
            "/usr/local/lib/python3.11/dist-packages/IPython/core/pylabtools.py:151: UserWarning: Glyph 48324 (\\N{HANGUL SYLLABLE BYEOL}) missing from font(s) DejaVu Sans.\n",
            "  fig.canvas.print_figure(bytes_io, **kw)\n",
            "/usr/local/lib/python3.11/dist-packages/IPython/core/pylabtools.py:151: UserWarning: Glyph 47672 (\\N{HANGUL SYLLABLE MEO}) missing from font(s) DejaVu Sans.\n",
            "  fig.canvas.print_figure(bytes_io, **kw)\n",
            "/usr/local/lib/python3.11/dist-packages/IPython/core/pylabtools.py:151: UserWarning: Glyph 47924 (\\N{HANGUL SYLLABLE MU}) missing from font(s) DejaVu Sans.\n",
            "  fig.canvas.print_figure(bytes_io, **kw)\n",
            "/usr/local/lib/python3.11/dist-packages/IPython/core/pylabtools.py:151: UserWarning: Glyph 47480 (\\N{HANGUL SYLLABLE REUN}) missing from font(s) DejaVu Sans.\n",
            "  fig.canvas.print_figure(bytes_io, **kw)\n"
          ]
        },
        {
          "output_type": "display_data",
          "data": {
            "text/plain": [
              "<Figure size 1000x500 with 1 Axes>"
            ],
            "image/png": "[encoded data removed]"
          },
          "metadata": {}
        }
      ]
    }
  ]
}