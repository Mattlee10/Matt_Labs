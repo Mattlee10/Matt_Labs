{
  "nbformat": 4,
  "nbformat_minor": 0,
  "metadata": {
    "colab": {
      "provenance": [],
      "mount_file_id": "1mSnCJ6tCjhHRJMVUuKGk2ciOlHU_BNvb",
      "authorship_tag": "ABX9TyMtKWawKJKWd6kvBHnSUdF7",
      "include_colab_link": true
    },
    "kernelspec": {
      "name": "python3",
      "display_name": "Python 3"
    },
    "language_info": {
      "name": "python"
    }
  },
  "cells": [
    {
      "cell_type": "markdown",
      "metadata": {
        "id": "view-in-github",
        "colab_type": "text"
      },
      "source": [
        "<a href=\"https://colab.research.google.com/github/Mattlee10/zone2/blob/main/25_05.ipynb\" target=\"_parent\"><img src=\"https://colab.research.google.com/assets/colab-badge.svg\" alt=\"Open In Colab\"/></a>"
      ]
    },
    {
      "cell_type": "markdown",
      "source": [
        "# 데이터 수집"
      ],
      "metadata": {
        "id": "WlqjDadakp12"
      }
    },
    {
      "cell_type": "code",
      "source": [
        "import xml.etree.ElementTree as ET\n",
        "import pandas as pd\n",
        "\n",
        "def parse_health_export(xml_path, record_types=None):\n",
        "    \"\"\"\n",
        "    Apple Health Export XML에서 원하는 Record Type만 추출\n",
        "    \"\"\"\n",
        "    tree = ET.parse(xml_path)\n",
        "    root = tree.getroot()\n",
        "    records = []\n",
        "\n",
        "    for rec in root.findall('Record'):\n",
        "        rtype = rec.get('type')\n",
        "        if record_types and rtype not in record_types:\n",
        "            continue\n",
        "        val = rec.get('value')\n",
        "        if val is None:\n",
        "            continue\n",
        "        records.append({\n",
        "            'type': rtype,\n",
        "            'value': float(val),\n",
        "            'unit': rec.get('unit'),\n",
        "            'start': pd.to_datetime(rec.get('startDate')),\n",
        "            'end': pd.to_datetime(rec.get('endDate'))\n",
        "        })\n",
        "\n",
        "    return pd.DataFrame(records)\n",
        "\n",
        "# XML 경로 설정 (Google Drive에서 마운트한 경로 또는 Colab 업로드 경로)\n",
        "xml_path = '/content/drive/MyDrive/Export_ds.xml'\n",
        "\n",
        "# 필요 Record Type 정의\n",
        "record_types = [\n",
        "    'HKQuantityTypeIdentifierHeartRate',\n",
        "    'HKQuantityTypeIdentifierRestingHeartRate',\n",
        "    'HKQuantityTypeIdentifierHeartRateVariabilitySDNN'\n",
        "]\n",
        "\n",
        "# 파싱 실행\n",
        "df = parse_health_export(xml_path, record_types=record_types)\n",
        "\n",
        "# 결과 미리보기\n",
        "print(df.head())"
      ],
      "metadata": {
        "colab": {
          "base_uri": "https://localhost:8080/"
        },
        "id": "2UR4MnS6iu_Y",
        "outputId": "972f12d5-e98e-4406-d041-266a3934a5e9"
      },
      "execution_count": 1,
      "outputs": [
        {
          "output_type": "stream",
          "name": "stdout",
          "text": [
            "                                type    value       unit  \\\n",
            "0  HKQuantityTypeIdentifierHeartRate  66.0000  count/min   \n",
            "1  HKQuantityTypeIdentifierHeartRate  77.0000  count/min   \n",
            "2  HKQuantityTypeIdentifierHeartRate  71.9442  count/min   \n",
            "3  HKQuantityTypeIdentifierHeartRate  70.0000  count/min   \n",
            "4  HKQuantityTypeIdentifierHeartRate  75.0000  count/min   \n",
            "\n",
            "                      start                       end  \n",
            "0 2021-06-24 22:43:39+09:00 2021-06-24 22:43:39+09:00  \n",
            "1 2021-06-24 22:44:53+09:00 2021-06-24 22:44:53+09:00  \n",
            "2 2021-06-24 22:49:47+09:00 2021-06-24 22:49:47+09:00  \n",
            "3 2021-06-24 22:50:54+09:00 2021-06-24 22:50:54+09:00  \n",
            "4 2021-06-24 23:00:35+09:00 2021-06-24 23:00:35+09:00  \n"
          ]
        }
      ]
    },
    {
      "cell_type": "markdown",
      "source": [
        "# 데이터 전처리"
      ],
      "metadata": {
        "id": "LV37IEC8kwaX"
      }
    },
    {
      "cell_type": "code",
      "source": [
        "# 사용자 정보\n",
        "AGE = 31  # 사용자 나이\n",
        "MAX_HR = 220 - AGE\n",
        "\n",
        "# 안정 심박수 평균 계산 (RestingHeartRate 평균값)\n",
        "rhr_df = df[df['type'] == 'HKQuantityTypeIdentifierRestingHeartRate']\n",
        "RHR = rhr_df['value'].mean()\n",
        "print(f\"안정심박수 평균: {RHR:.1f} bpm\")\n",
        "\n",
        "# NEAT zone 설정 (예: 강도 25~50%)\n",
        "NEAT_MIN = RHR + (MAX_HR - RHR) * 0.25\n",
        "NEAT_MAX = RHR + (MAX_HR - RHR) * 0.50\n",
        "print(f\"NEAT 구간: {NEAT_MIN:.1f} ~ {NEAT_MAX:.1f} bpm\")"
      ],
      "metadata": {
        "colab": {
          "base_uri": "https://localhost:8080/"
        },
        "id": "S7l2Yg2Jqyg6",
        "outputId": "64097940-4260-4b3f-c182-b882ea151996"
      },
      "execution_count": 2,
      "outputs": [
        {
          "output_type": "stream",
          "name": "stdout",
          "text": [
            "안정심박수 평균: 62.7 bpm\n",
            "NEAT 구간: 94.3 ~ 125.9 bpm\n"
          ]
        }
      ]
    },
    {
      "cell_type": "code",
      "source": [
        "# 심박수 데이터 필터링\n",
        "hr_df = df[df['type'] == 'HKQuantityTypeIdentifierHeartRate'].copy()\n",
        "\n",
        "# NEAT zone 여부 컬럼 생성\n",
        "hr_df['in_neat_zone'] = hr_df['value'].between(NEAT_MIN, NEAT_MAX)"
      ],
      "metadata": {
        "id": "cmvx9xQfrAeZ"
      },
      "execution_count": 3,
      "outputs": []
    },
    {
      "cell_type": "code",
      "source": [
        "# 날짜 컬럼 생성\n",
        "hr_df['date'] = hr_df['start'].dt.date\n",
        "\n",
        "# 원하는 날짜 범위 설정\n",
        "start_date = pd.to_datetime(\"2025-05-19\").date()\n",
        "end_date = pd.to_datetime(\"2025-05-23\").date()\n",
        "\n",
        "# 해당 범위로 필터링\n",
        "filtered_df = hr_df[(hr_df['date'] >= start_date) & (hr_df['date'] <= end_date)]"
      ],
      "metadata": {
        "id": "MotXryIAr3q5"
      },
      "execution_count": 4,
      "outputs": []
    },
    {
      "cell_type": "code",
      "source": [
        "daily_summary = filtered_df.groupby('date')['in_neat_zone'].mean().reset_index()\n",
        "daily_summary.rename(columns={'in_neat_zone': 'neat_ratio'}, inplace=True)\n",
        "daily_summary['neat_percent'] = daily_summary['neat_ratio'] * 100"
      ],
      "metadata": {
        "id": "n5Feus_5r6Ju"
      },
      "execution_count": 5,
      "outputs": []
    },
    {
      "cell_type": "code",
      "source": [
        "def categorize_neat(percent):\n",
        "    if percent < 20:\n",
        "        return \"0–20%\"\n",
        "    elif percent < 40:\n",
        "        return \"20–40%\"\n",
        "    elif percent < 60:\n",
        "        return \"40–60%\"\n",
        "    else:\n",
        "        return \"60% 이상\"\n",
        "\n",
        "daily_summary['neat_zone_level'] = daily_summary['neat_percent'].apply(categorize_neat)"
      ],
      "metadata": {
        "id": "uVXJJRZ2r7UO"
      },
      "execution_count": 6,
      "outputs": []
    },
    {
      "cell_type": "code",
      "source": [
        "print(daily_summary[['date', 'neat_percent', 'neat_zone_level']])"
      ],
      "metadata": {
        "colab": {
          "base_uri": "https://localhost:8080/"
        },
        "id": "20DfAQAur8q9",
        "outputId": "537179e3-931f-4c92-8704-571aaae36189"
      },
      "execution_count": 7,
      "outputs": [
        {
          "output_type": "stream",
          "name": "stdout",
          "text": [
            "         date  neat_percent neat_zone_level\n",
            "0  2025-05-19     67.739464          60% 이상\n",
            "1  2025-05-20     52.986811          40–60%\n",
            "2  2025-05-21     38.024165          20–40%\n",
            "3  2025-05-22     60.025873          60% 이상\n",
            "4  2025-05-23     51.797235          40–60%\n"
          ]
        }
      ]
    },
    {
      "cell_type": "code",
      "source": [
        "import seaborn as sns\n",
        "import matplotlib.pyplot as plt\n",
        "\n",
        "plt.figure(figsize=(10, 5))\n",
        "sns.barplot(\n",
        "    x='date',\n",
        "    y='neat_percent',\n",
        "    hue='neat_zone_level',\n",
        "    data=daily_summary,\n",
        "    palette='Set2'\n",
        ")\n",
        "\n",
        "# 기준선 (선택)\n",
        "plt.axhline(20, color='gray', linestyle='--', linewidth=1, label='20% 기준')\n",
        "plt.axhline(40, color='gray', linestyle='--', linewidth=1)\n",
        "plt.axhline(60, color='gray', linestyle='--', linewidth=1)\n",
        "\n",
        "plt.title('일별 NEAT 체류 비율 (%) 및 구간 분류')\n",
        "plt.ylabel('NEAT 비율 (%)')\n",
        "plt.xlabel('날짜')\n",
        "plt.ylim(0, 100)\n",
        "plt.xticks(rotation=45)\n",
        "plt.legend(title='NEAT 구간')\n",
        "plt.tight_layout()\n",
        "plt.show()"
      ],
      "metadata": {
        "colab": {
          "base_uri": "https://localhost:8080/",
          "height": 1000
        },
        "id": "I0O43PU2sDzM",
        "outputId": "3a65c650-e96e-474a-f13b-83f8bcd7e6d8"
      },
      "execution_count": 8,
      "outputs": [
        {
          "output_type": "stream",
          "name": "stderr",
          "text": [
            "<ipython-input-8-31e93be0e569>:24: UserWarning: Glyph 45216 (\\N{HANGUL SYLLABLE NAL}) missing from font(s) DejaVu Sans.\n",
            "  plt.tight_layout()\n",
            "<ipython-input-8-31e93be0e569>:24: UserWarning: Glyph 51676 (\\N{HANGUL SYLLABLE JJA}) missing from font(s) DejaVu Sans.\n",
            "  plt.tight_layout()\n",
            "<ipython-input-8-31e93be0e569>:24: UserWarning: Glyph 48708 (\\N{HANGUL SYLLABLE BI}) missing from font(s) DejaVu Sans.\n",
            "  plt.tight_layout()\n",
            "<ipython-input-8-31e93be0e569>:24: UserWarning: Glyph 50984 (\\N{HANGUL SYLLABLE YUL}) missing from font(s) DejaVu Sans.\n",
            "  plt.tight_layout()\n",
            "<ipython-input-8-31e93be0e569>:24: UserWarning: Glyph 51068 (\\N{HANGUL SYLLABLE IL}) missing from font(s) DejaVu Sans.\n",
            "  plt.tight_layout()\n",
            "<ipython-input-8-31e93be0e569>:24: UserWarning: Glyph 48324 (\\N{HANGUL SYLLABLE BYEOL}) missing from font(s) DejaVu Sans.\n",
            "  plt.tight_layout()\n",
            "<ipython-input-8-31e93be0e569>:24: UserWarning: Glyph 52404 (\\N{HANGUL SYLLABLE CE}) missing from font(s) DejaVu Sans.\n",
            "  plt.tight_layout()\n",
            "<ipython-input-8-31e93be0e569>:24: UserWarning: Glyph 47448 (\\N{HANGUL SYLLABLE RYU}) missing from font(s) DejaVu Sans.\n",
            "  plt.tight_layout()\n",
            "<ipython-input-8-31e93be0e569>:24: UserWarning: Glyph 48143 (\\N{HANGUL SYLLABLE MIC}) missing from font(s) DejaVu Sans.\n",
            "  plt.tight_layout()\n",
            "<ipython-input-8-31e93be0e569>:24: UserWarning: Glyph 44396 (\\N{HANGUL SYLLABLE GU}) missing from font(s) DejaVu Sans.\n",
            "  plt.tight_layout()\n",
            "<ipython-input-8-31e93be0e569>:24: UserWarning: Glyph 44036 (\\N{HANGUL SYLLABLE GAN}) missing from font(s) DejaVu Sans.\n",
            "  plt.tight_layout()\n",
            "<ipython-input-8-31e93be0e569>:24: UserWarning: Glyph 48516 (\\N{HANGUL SYLLABLE BUN}) missing from font(s) DejaVu Sans.\n",
            "  plt.tight_layout()\n",
            "<ipython-input-8-31e93be0e569>:24: UserWarning: Glyph 51060 (\\N{HANGUL SYLLABLE I}) missing from font(s) DejaVu Sans.\n",
            "  plt.tight_layout()\n",
            "<ipython-input-8-31e93be0e569>:24: UserWarning: Glyph 49345 (\\N{HANGUL SYLLABLE SANG}) missing from font(s) DejaVu Sans.\n",
            "  plt.tight_layout()\n",
            "<ipython-input-8-31e93be0e569>:24: UserWarning: Glyph 44592 (\\N{HANGUL SYLLABLE GI}) missing from font(s) DejaVu Sans.\n",
            "  plt.tight_layout()\n",
            "<ipython-input-8-31e93be0e569>:24: UserWarning: Glyph 51456 (\\N{HANGUL SYLLABLE JUN}) missing from font(s) DejaVu Sans.\n",
            "  plt.tight_layout()\n",
            "/usr/local/lib/python3.11/dist-packages/IPython/core/pylabtools.py:151: UserWarning: Glyph 48708 (\\N{HANGUL SYLLABLE BI}) missing from font(s) DejaVu Sans.\n",
            "  fig.canvas.print_figure(bytes_io, **kw)\n",
            "/usr/local/lib/python3.11/dist-packages/IPython/core/pylabtools.py:151: UserWarning: Glyph 50984 (\\N{HANGUL SYLLABLE YUL}) missing from font(s) DejaVu Sans.\n",
            "  fig.canvas.print_figure(bytes_io, **kw)\n",
            "/usr/local/lib/python3.11/dist-packages/IPython/core/pylabtools.py:151: UserWarning: Glyph 51068 (\\N{HANGUL SYLLABLE IL}) missing from font(s) DejaVu Sans.\n",
            "  fig.canvas.print_figure(bytes_io, **kw)\n",
            "/usr/local/lib/python3.11/dist-packages/IPython/core/pylabtools.py:151: UserWarning: Glyph 48324 (\\N{HANGUL SYLLABLE BYEOL}) missing from font(s) DejaVu Sans.\n",
            "  fig.canvas.print_figure(bytes_io, **kw)\n",
            "/usr/local/lib/python3.11/dist-packages/IPython/core/pylabtools.py:151: UserWarning: Glyph 52404 (\\N{HANGUL SYLLABLE CE}) missing from font(s) DejaVu Sans.\n",
            "  fig.canvas.print_figure(bytes_io, **kw)\n",
            "/usr/local/lib/python3.11/dist-packages/IPython/core/pylabtools.py:151: UserWarning: Glyph 47448 (\\N{HANGUL SYLLABLE RYU}) missing from font(s) DejaVu Sans.\n",
            "  fig.canvas.print_figure(bytes_io, **kw)\n",
            "/usr/local/lib/python3.11/dist-packages/IPython/core/pylabtools.py:151: UserWarning: Glyph 48143 (\\N{HANGUL SYLLABLE MIC}) missing from font(s) DejaVu Sans.\n",
            "  fig.canvas.print_figure(bytes_io, **kw)\n",
            "/usr/local/lib/python3.11/dist-packages/IPython/core/pylabtools.py:151: UserWarning: Glyph 44396 (\\N{HANGUL SYLLABLE GU}) missing from font(s) DejaVu Sans.\n",
            "  fig.canvas.print_figure(bytes_io, **kw)\n",
            "/usr/local/lib/python3.11/dist-packages/IPython/core/pylabtools.py:151: UserWarning: Glyph 44036 (\\N{HANGUL SYLLABLE GAN}) missing from font(s) DejaVu Sans.\n",
            "  fig.canvas.print_figure(bytes_io, **kw)\n",
            "/usr/local/lib/python3.11/dist-packages/IPython/core/pylabtools.py:151: UserWarning: Glyph 48516 (\\N{HANGUL SYLLABLE BUN}) missing from font(s) DejaVu Sans.\n",
            "  fig.canvas.print_figure(bytes_io, **kw)\n",
            "/usr/local/lib/python3.11/dist-packages/IPython/core/pylabtools.py:151: UserWarning: Glyph 45216 (\\N{HANGUL SYLLABLE NAL}) missing from font(s) DejaVu Sans.\n",
            "  fig.canvas.print_figure(bytes_io, **kw)\n",
            "/usr/local/lib/python3.11/dist-packages/IPython/core/pylabtools.py:151: UserWarning: Glyph 51676 (\\N{HANGUL SYLLABLE JJA}) missing from font(s) DejaVu Sans.\n",
            "  fig.canvas.print_figure(bytes_io, **kw)\n",
            "/usr/local/lib/python3.11/dist-packages/IPython/core/pylabtools.py:151: UserWarning: Glyph 51060 (\\N{HANGUL SYLLABLE I}) missing from font(s) DejaVu Sans.\n",
            "  fig.canvas.print_figure(bytes_io, **kw)\n",
            "/usr/local/lib/python3.11/dist-packages/IPython/core/pylabtools.py:151: UserWarning: Glyph 49345 (\\N{HANGUL SYLLABLE SANG}) missing from font(s) DejaVu Sans.\n",
            "  fig.canvas.print_figure(bytes_io, **kw)\n",
            "/usr/local/lib/python3.11/dist-packages/IPython/core/pylabtools.py:151: UserWarning: Glyph 44592 (\\N{HANGUL SYLLABLE GI}) missing from font(s) DejaVu Sans.\n",
            "  fig.canvas.print_figure(bytes_io, **kw)\n",
            "/usr/local/lib/python3.11/dist-packages/IPython/core/pylabtools.py:151: UserWarning: Glyph 51456 (\\N{HANGUL SYLLABLE JUN}) missing from font(s) DejaVu Sans.\n",
            "  fig.canvas.print_figure(bytes_io, **kw)\n"
          ]
        },
        {
          "output_type": "display_data",
          "data": {
            "text/plain": [
              "<Figure size 1000x500 with 1 Axes>"
            ],
            "image/png": "[encoded data removed]"
          },
          "metadata": {}
        }
      ]
    },
    {
      "cell_type": "code",
      "source": [
        "def classify_time(hour):\n",
        "    if 6 <= hour < 10:\n",
        "        return '아침 (6~10시)'\n",
        "    elif 10 <= hour < 14:\n",
        "        return '오전 (10~14시)'\n",
        "    elif 14 <= hour < 18:\n",
        "        return '오후 (14~18시)'\n",
        "    elif 18 <= hour < 22:\n",
        "        return '저녁 (18~22시)'\n",
        "    else:\n",
        "        return '야간/새벽'\n",
        "\n",
        "# 기존 필터링된 데이터 기준 (filtered_df)\n",
        "filtered_df['hour'] = filtered_df['start'].dt.hour\n",
        "filtered_df['time_block'] = filtered_df['hour'].apply(classify_time)"
      ],
      "metadata": {
        "colab": {
          "base_uri": "https://localhost:8080/"
        },
        "id": "hlL0QTvVuCiU",
        "outputId": "e2e46cd0-097d-4dc3-fa11-1a4693145b73"
      },
      "execution_count": 9,
      "outputs": [
        {
          "output_type": "stream",
          "name": "stderr",
          "text": [
            "<ipython-input-9-e5dd8eb2afe9>:14: SettingWithCopyWarning: \n",
            "A value is trying to be set on a copy of a slice from a DataFrame.\n",
            "Try using .loc[row_indexer,col_indexer] = value instead\n",
            "\n",
            "See the caveats in the documentation: https://pandas.pydata.org/pandas-docs/stable/user_guide/indexing.html#returning-a-view-versus-a-copy\n",
            "  filtered_df['hour'] = filtered_df['start'].dt.hour\n",
            "<ipython-input-9-e5dd8eb2afe9>:15: SettingWithCopyWarning: \n",
            "A value is trying to be set on a copy of a slice from a DataFrame.\n",
            "Try using .loc[row_indexer,col_indexer] = value instead\n",
            "\n",
            "See the caveats in the documentation: https://pandas.pydata.org/pandas-docs/stable/user_guide/indexing.html#returning-a-view-versus-a-copy\n",
            "  filtered_df['time_block'] = filtered_df['hour'].apply(classify_time)\n"
          ]
        }
      ]
    },
    {
      "cell_type": "code",
      "source": [
        "timeblock_summary = (\n",
        "    filtered_df.groupby(['date', 'time_block'])['in_neat_zone']\n",
        "    .mean()\n",
        "    .reset_index()\n",
        ")\n",
        "\n",
        "timeblock_summary['neat_percent'] = timeblock_summary['in_neat_zone'] * 100"
      ],
      "metadata": {
        "id": "qr4HDmjbuFei"
      },
      "execution_count": 10,
      "outputs": []
    },
    {
      "cell_type": "code",
      "source": [
        "pivot_table = timeblock_summary.pivot(index='time_block', columns='date', values='neat_percent')\n",
        "pivot_table = pivot_table.reindex(['아침 (6~10시)', '오전 (10~14시)', '오후 (14~18시)', '저녁 (18~22시)', '야간/새벽'])"
      ],
      "metadata": {
        "id": "VL5RSEHIuHD3"
      },
      "execution_count": 11,
      "outputs": []
    },
    {
      "cell_type": "code",
      "source": [
        "import seaborn as sns\n",
        "import matplotlib.pyplot as plt\n",
        "\n",
        "plt.figure(figsize=(8, 5))\n",
        "sns.heatmap(pivot_table, annot=True, fmt=\".1f\", cmap=\"YlGnBu\", cbar_kws={'label': 'NEAT 체류 비율 (%)'})\n",
        "plt.title(\"날짜별 시간대별 NEAT 활동 비율 히트맵\")\n",
        "plt.xlabel(\"날짜\")\n",
        "plt.ylabel(\"시간대\")\n",
        "plt.tight_layout()\n",
        "plt.show()"
      ],
      "metadata": {
        "colab": {
          "base_uri": "https://localhost:8080/",
          "height": 1000
        },
        "id": "z6LJf8ZEuIiI",
        "outputId": "fff26669-7ae0-4a80-cf76-f556f2152584"
      },
      "execution_count": 12,
      "outputs": [
        {
          "output_type": "stream",
          "name": "stderr",
          "text": [
            "/usr/local/lib/python3.11/dist-packages/seaborn/utils.py:61: UserWarning: Glyph 50500 (\\N{HANGUL SYLLABLE A}) missing from font(s) DejaVu Sans.\n",
            "  fig.canvas.draw()\n",
            "/usr/local/lib/python3.11/dist-packages/seaborn/utils.py:61: UserWarning: Glyph 52840 (\\N{HANGUL SYLLABLE CIM}) missing from font(s) DejaVu Sans.\n",
            "  fig.canvas.draw()\n",
            "/usr/local/lib/python3.11/dist-packages/seaborn/utils.py:61: UserWarning: Glyph 49884 (\\N{HANGUL SYLLABLE SI}) missing from font(s) DejaVu Sans.\n",
            "  fig.canvas.draw()\n",
            "/usr/local/lib/python3.11/dist-packages/seaborn/utils.py:61: UserWarning: Glyph 50724 (\\N{HANGUL SYLLABLE O}) missing from font(s) DejaVu Sans.\n",
            "  fig.canvas.draw()\n",
            "/usr/local/lib/python3.11/dist-packages/seaborn/utils.py:61: UserWarning: Glyph 51204 (\\N{HANGUL SYLLABLE JEON}) missing from font(s) DejaVu Sans.\n",
            "  fig.canvas.draw()\n",
            "/usr/local/lib/python3.11/dist-packages/seaborn/utils.py:61: UserWarning: Glyph 54980 (\\N{HANGUL SYLLABLE HU}) missing from font(s) DejaVu Sans.\n",
            "  fig.canvas.draw()\n",
            "/usr/local/lib/python3.11/dist-packages/seaborn/utils.py:61: UserWarning: Glyph 51200 (\\N{HANGUL SYLLABLE JEO}) missing from font(s) DejaVu Sans.\n",
            "  fig.canvas.draw()\n",
            "/usr/local/lib/python3.11/dist-packages/seaborn/utils.py:61: UserWarning: Glyph 45377 (\\N{HANGUL SYLLABLE NYEOG}) missing from font(s) DejaVu Sans.\n",
            "  fig.canvas.draw()\n",
            "/usr/local/lib/python3.11/dist-packages/seaborn/utils.py:61: UserWarning: Glyph 50556 (\\N{HANGUL SYLLABLE YA}) missing from font(s) DejaVu Sans.\n",
            "  fig.canvas.draw()\n",
            "/usr/local/lib/python3.11/dist-packages/seaborn/utils.py:61: UserWarning: Glyph 44036 (\\N{HANGUL SYLLABLE GAN}) missing from font(s) DejaVu Sans.\n",
            "  fig.canvas.draw()\n",
            "/usr/local/lib/python3.11/dist-packages/seaborn/utils.py:61: UserWarning: Glyph 49352 (\\N{HANGUL SYLLABLE SAE}) missing from font(s) DejaVu Sans.\n",
            "  fig.canvas.draw()\n",
            "/usr/local/lib/python3.11/dist-packages/seaborn/utils.py:61: UserWarning: Glyph 48317 (\\N{HANGUL SYLLABLE BYEOG}) missing from font(s) DejaVu Sans.\n",
            "  fig.canvas.draw()\n",
            "/usr/local/lib/python3.11/dist-packages/seaborn/utils.py:61: UserWarning: Glyph 52404 (\\N{HANGUL SYLLABLE CE}) missing from font(s) DejaVu Sans.\n",
            "  fig.canvas.draw()\n",
            "/usr/local/lib/python3.11/dist-packages/seaborn/utils.py:61: UserWarning: Glyph 47448 (\\N{HANGUL SYLLABLE RYU}) missing from font(s) DejaVu Sans.\n",
            "  fig.canvas.draw()\n",
            "/usr/local/lib/python3.11/dist-packages/seaborn/utils.py:61: UserWarning: Glyph 48708 (\\N{HANGUL SYLLABLE BI}) missing from font(s) DejaVu Sans.\n",
            "  fig.canvas.draw()\n",
            "/usr/local/lib/python3.11/dist-packages/seaborn/utils.py:61: UserWarning: Glyph 50984 (\\N{HANGUL SYLLABLE YUL}) missing from font(s) DejaVu Sans.\n",
            "  fig.canvas.draw()\n",
            "<ipython-input-12-c39f8947ff6b>:9: UserWarning: Glyph 45216 (\\N{HANGUL SYLLABLE NAL}) missing from font(s) DejaVu Sans.\n",
            "  plt.tight_layout()\n",
            "<ipython-input-12-c39f8947ff6b>:9: UserWarning: Glyph 51676 (\\N{HANGUL SYLLABLE JJA}) missing from font(s) DejaVu Sans.\n",
            "  plt.tight_layout()\n",
            "<ipython-input-12-c39f8947ff6b>:9: UserWarning: Glyph 49884 (\\N{HANGUL SYLLABLE SI}) missing from font(s) DejaVu Sans.\n",
            "  plt.tight_layout()\n",
            "<ipython-input-12-c39f8947ff6b>:9: UserWarning: Glyph 44036 (\\N{HANGUL SYLLABLE GAN}) missing from font(s) DejaVu Sans.\n",
            "  plt.tight_layout()\n",
            "<ipython-input-12-c39f8947ff6b>:9: UserWarning: Glyph 45824 (\\N{HANGUL SYLLABLE DAE}) missing from font(s) DejaVu Sans.\n",
            "  plt.tight_layout()\n",
            "<ipython-input-12-c39f8947ff6b>:9: UserWarning: Glyph 48324 (\\N{HANGUL SYLLABLE BYEOL}) missing from font(s) DejaVu Sans.\n",
            "  plt.tight_layout()\n",
            "<ipython-input-12-c39f8947ff6b>:9: UserWarning: Glyph 54876 (\\N{HANGUL SYLLABLE HWAL}) missing from font(s) DejaVu Sans.\n",
            "  plt.tight_layout()\n",
            "<ipython-input-12-c39f8947ff6b>:9: UserWarning: Glyph 46041 (\\N{HANGUL SYLLABLE DONG}) missing from font(s) DejaVu Sans.\n",
            "  plt.tight_layout()\n",
            "<ipython-input-12-c39f8947ff6b>:9: UserWarning: Glyph 48708 (\\N{HANGUL SYLLABLE BI}) missing from font(s) DejaVu Sans.\n",
            "  plt.tight_layout()\n",
            "<ipython-input-12-c39f8947ff6b>:9: UserWarning: Glyph 50984 (\\N{HANGUL SYLLABLE YUL}) missing from font(s) DejaVu Sans.\n",
            "  plt.tight_layout()\n",
            "<ipython-input-12-c39f8947ff6b>:9: UserWarning: Glyph 55176 (\\N{HANGUL SYLLABLE HI}) missing from font(s) DejaVu Sans.\n",
            "  plt.tight_layout()\n",
            "<ipython-input-12-c39f8947ff6b>:9: UserWarning: Glyph 53944 (\\N{HANGUL SYLLABLE TEU}) missing from font(s) DejaVu Sans.\n",
            "  plt.tight_layout()\n",
            "<ipython-input-12-c39f8947ff6b>:9: UserWarning: Glyph 47605 (\\N{HANGUL SYLLABLE MAEB}) missing from font(s) DejaVu Sans.\n",
            "  plt.tight_layout()\n",
            "/usr/local/lib/python3.11/dist-packages/IPython/core/pylabtools.py:151: UserWarning: Glyph 50500 (\\N{HANGUL SYLLABLE A}) missing from font(s) DejaVu Sans.\n",
            "  fig.canvas.print_figure(bytes_io, **kw)\n",
            "/usr/local/lib/python3.11/dist-packages/IPython/core/pylabtools.py:151: UserWarning: Glyph 52840 (\\N{HANGUL SYLLABLE CIM}) missing from font(s) DejaVu Sans.\n",
            "  fig.canvas.print_figure(bytes_io, **kw)\n",
            "/usr/local/lib/python3.11/dist-packages/IPython/core/pylabtools.py:151: UserWarning: Glyph 49884 (\\N{HANGUL SYLLABLE SI}) missing from font(s) DejaVu Sans.\n",
            "  fig.canvas.print_figure(bytes_io, **kw)\n",
            "/usr/local/lib/python3.11/dist-packages/IPython/core/pylabtools.py:151: UserWarning: Glyph 50724 (\\N{HANGUL SYLLABLE O}) missing from font(s) DejaVu Sans.\n",
            "  fig.canvas.print_figure(bytes_io, **kw)\n",
            "/usr/local/lib/python3.11/dist-packages/IPython/core/pylabtools.py:151: UserWarning: Glyph 51204 (\\N{HANGUL SYLLABLE JEON}) missing from font(s) DejaVu Sans.\n",
            "  fig.canvas.print_figure(bytes_io, **kw)\n",
            "/usr/local/lib/python3.11/dist-packages/IPython/core/pylabtools.py:151: UserWarning: Glyph 54980 (\\N{HANGUL SYLLABLE HU}) missing from font(s) DejaVu Sans.\n",
            "  fig.canvas.print_figure(bytes_io, **kw)\n",
            "/usr/local/lib/python3.11/dist-packages/IPython/core/pylabtools.py:151: UserWarning: Glyph 51200 (\\N{HANGUL SYLLABLE JEO}) missing from font(s) DejaVu Sans.\n",
            "  fig.canvas.print_figure(bytes_io, **kw)\n",
            "/usr/local/lib/python3.11/dist-packages/IPython/core/pylabtools.py:151: UserWarning: Glyph 45377 (\\N{HANGUL SYLLABLE NYEOG}) missing from font(s) DejaVu Sans.\n",
            "  fig.canvas.print_figure(bytes_io, **kw)\n",
            "/usr/local/lib/python3.11/dist-packages/IPython/core/pylabtools.py:151: UserWarning: Glyph 50556 (\\N{HANGUL SYLLABLE YA}) missing from font(s) DejaVu Sans.\n",
            "  fig.canvas.print_figure(bytes_io, **kw)\n",
            "/usr/local/lib/python3.11/dist-packages/IPython/core/pylabtools.py:151: UserWarning: Glyph 44036 (\\N{HANGUL SYLLABLE GAN}) missing from font(s) DejaVu Sans.\n",
            "  fig.canvas.print_figure(bytes_io, **kw)\n",
            "/usr/local/lib/python3.11/dist-packages/IPython/core/pylabtools.py:151: UserWarning: Glyph 49352 (\\N{HANGUL SYLLABLE SAE}) missing from font(s) DejaVu Sans.\n",
            "  fig.canvas.print_figure(bytes_io, **kw)\n",
            "/usr/local/lib/python3.11/dist-packages/IPython/core/pylabtools.py:151: UserWarning: Glyph 48317 (\\N{HANGUL SYLLABLE BYEOG}) missing from font(s) DejaVu Sans.\n",
            "  fig.canvas.print_figure(bytes_io, **kw)\n",
            "/usr/local/lib/python3.11/dist-packages/IPython/core/pylabtools.py:151: UserWarning: Glyph 45824 (\\N{HANGUL SYLLABLE DAE}) missing from font(s) DejaVu Sans.\n",
            "  fig.canvas.print_figure(bytes_io, **kw)\n",
            "/usr/local/lib/python3.11/dist-packages/IPython/core/pylabtools.py:151: UserWarning: Glyph 45216 (\\N{HANGUL SYLLABLE NAL}) missing from font(s) DejaVu Sans.\n",
            "  fig.canvas.print_figure(bytes_io, **kw)\n",
            "/usr/local/lib/python3.11/dist-packages/IPython/core/pylabtools.py:151: UserWarning: Glyph 51676 (\\N{HANGUL SYLLABLE JJA}) missing from font(s) DejaVu Sans.\n",
            "  fig.canvas.print_figure(bytes_io, **kw)\n",
            "/usr/local/lib/python3.11/dist-packages/IPython/core/pylabtools.py:151: UserWarning: Glyph 48324 (\\N{HANGUL SYLLABLE BYEOL}) missing from font(s) DejaVu Sans.\n",
            "  fig.canvas.print_figure(bytes_io, **kw)\n",
            "/usr/local/lib/python3.11/dist-packages/IPython/core/pylabtools.py:151: UserWarning: Glyph 54876 (\\N{HANGUL SYLLABLE HWAL}) missing from font(s) DejaVu Sans.\n",
            "  fig.canvas.print_figure(bytes_io, **kw)\n",
            "/usr/local/lib/python3.11/dist-packages/IPython/core/pylabtools.py:151: UserWarning: Glyph 46041 (\\N{HANGUL SYLLABLE DONG}) missing from font(s) DejaVu Sans.\n",
            "  fig.canvas.print_figure(bytes_io, **kw)\n",
            "/usr/local/lib/python3.11/dist-packages/IPython/core/pylabtools.py:151: UserWarning: Glyph 48708 (\\N{HANGUL SYLLABLE BI}) missing from font(s) DejaVu Sans.\n",
            "  fig.canvas.print_figure(bytes_io, **kw)\n",
            "/usr/local/lib/python3.11/dist-packages/IPython/core/pylabtools.py:151: UserWarning: Glyph 50984 (\\N{HANGUL SYLLABLE YUL}) missing from font(s) DejaVu Sans.\n",
            "  fig.canvas.print_figure(bytes_io, **kw)\n",
            "/usr/local/lib/python3.11/dist-packages/IPython/core/pylabtools.py:151: UserWarning: Glyph 55176 (\\N{HANGUL SYLLABLE HI}) missing from font(s) DejaVu Sans.\n",
            "  fig.canvas.print_figure(bytes_io, **kw)\n",
            "/usr/local/lib/python3.11/dist-packages/IPython/core/pylabtools.py:151: UserWarning: Glyph 53944 (\\N{HANGUL SYLLABLE TEU}) missing from font(s) DejaVu Sans.\n",
            "  fig.canvas.print_figure(bytes_io, **kw)\n",
            "/usr/local/lib/python3.11/dist-packages/IPython/core/pylabtools.py:151: UserWarning: Glyph 47605 (\\N{HANGUL SYLLABLE MAEB}) missing from font(s) DejaVu Sans.\n",
            "  fig.canvas.print_figure(bytes_io, **kw)\n",
            "/usr/local/lib/python3.11/dist-packages/IPython/core/pylabtools.py:151: UserWarning: Glyph 52404 (\\N{HANGUL SYLLABLE CE}) missing from font(s) DejaVu Sans.\n",
            "  fig.canvas.print_figure(bytes_io, **kw)\n",
            "/usr/local/lib/python3.11/dist-packages/IPython/core/pylabtools.py:151: UserWarning: Glyph 47448 (\\N{HANGUL SYLLABLE RYU}) missing from font(s) DejaVu Sans.\n",
            "  fig.canvas.print_figure(bytes_io, **kw)\n"
          ]
        },
        {
          "output_type": "display_data",
          "data": {
            "text/plain": [
              "<Figure size 800x500 with 2 Axes>"
            ],
            "image/png": "[encoded data removed]"
          },
          "metadata": {}
        }
      ]
    }
  ]
}