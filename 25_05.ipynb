{
  "nbformat": 4,
  "nbformat_minor": 0,
  "metadata": {
    "colab": {
      "provenance": [],
      "authorship_tag": "ABX9TyPTKOYj7hq6UauRQ5LPVs/R",
      "include_colab_link": true
    },
    "kernelspec": {
      "name": "python3",
      "display_name": "Python 3"
    },
    "language_info": {
      "name": "python"
    }
  },
  "cells": [
    {
      "cell_type": "markdown",
      "metadata": {
        "id": "view-in-github",
        "colab_type": "text"
      },
      "source": [
        "<a href=\"https://colab.research.google.com/github/Mattlee10/zone2/blob/main/25_05.ipynb\" target=\"_parent\"><img src=\"https://colab.research.google.com/assets/colab-badge.svg\" alt=\"Open In Colab\"/></a>"
      ]
    },
    {
      "cell_type": "markdown",
      "source": [
        "1. 목표\n",
        "\n",
        "- HR/HRV 데이터를 활용해 Zone2 감지 + 회복 상태 분석\n",
        "- 사용자 형태에 따른 간단한 텍스트 피드백 생성"
      ],
      "metadata": {
        "id": "YVRb3y68ySiT"
      }
    },
    {
      "cell_type": "markdown",
      "source": [
        "2. 데이터\n",
        "\n",
        "- Apple Health, Samsung Health CSV(심박수/HRV 포함)\n"
      ],
      "metadata": {
        "id": "cCSsV3FVyk-9"
      }
    },
    {
      "cell_type": "markdown",
      "source": [
        "3. 단계별 구현\n",
        "\n",
        "- 데이터 전처리\n",
        "  - CSV 로딩 -> 시간 정렬, 결측치 제거\n",
        "  - HR -> 1분 단위 평균\n",
        "  - HRV(SDNN or rMSSD) 계산 (연속 구간 필요 시 슬라이딩 윈도우 적용)\n",
        "\n",
        "- Zone 2 감지\n",
        "  - 최대 심박수 = 220 - 나이\n",
        "  - Zone 2 범위 = 60-70% of max HR\n",
        "  - 해당 구간에 있었던 시간 누적\n",
        "\n",
        "- 회복/스트레스 분석: HRV 낮고 RHR 높으면 회복 저하\n",
        "- 요약 텍스트 출력: Rule based or GPT 활용"
      ],
      "metadata": {
        "id": "8UJIbgFHytaU"
      }
    },
    {
      "cell_type": "markdown",
      "source": [
        "4. 시각화\n",
        "\n",
        "- matplotlib로 HR/HRV 변화 그래프\n",
        "- Zone 2 운동 시간 히트맵\n",
        "- 추후 Canva/Figma 시각화 연결 포인트 설정"
      ],
      "metadata": {
        "id": "fSfqEJs3zNUt"
      }
    },
    {
      "cell_type": "markdown",
      "source": [
        "5. 다음 단계\n",
        "\n",
        "- 리포트 자동 생성(PDF 형태)\n",
        "- 카카오 공유 메시지 생성 시나리오"
      ],
      "metadata": {
        "id": "xzg5n8OBznXU"
      }
    },
    {
      "cell_type": "markdown",
      "source": [
        "# Zone 2 감지 알고리즘"
      ],
      "metadata": {
        "id": "NKoR2IQ89VhA"
      }
    },
    {
      "cell_type": "markdown",
      "source": [
        "데이터 입력: 웨어러블에서 수집한 시간별 심박수(HR) 데이터를 Pandas DataFrame으로 준비"
      ],
      "metadata": {
        "id": "_jQA1aJd9aF1"
      }
    },
    {
      "cell_type": "markdown",
      "source": [
        "최대심박수(MHR) 계산\n",
        "MHR = 220 - 나이"
      ],
      "metadata": {
        "id": "0qknzpUR9gEf"
      }
    },
    {
      "cell_type": "markdown",
      "source": [
        "Zone 2 구간 정의\n",
        "\n",
        "- 최소값: zone2_min = MHR x 0.60\n",
        "- 최대값: zone2_max = MHR x 0.70"
      ],
      "metadata": {
        "id": "p69Lv-PA9klB"
      }
    },
    {
      "cell_type": "markdown",
      "source": [
        "Zone 2 감지: 각 심박수가 zone2_min과 zone2_max 사이에 있는지 불리언 플래그(in_zone2) 생성"
      ],
      "metadata": {
        "id": "CQf8lt_T9vqw"
      }
    },
    {
      "cell_type": "markdown",
      "source": [
        "구간 요약\n",
        "\n",
        "- 지속 시간: in_zone2 == True인 행 수 (분 단위)\n",
        "- 비율: 전체 행 대비 in_zone2 비중"
      ],
      "metadata": {
        "id": "7eQsHIEl95cc"
      }
    },
    {
      "cell_type": "code",
      "source": [
        "import pandas as pd\n",
        "\n",
        "# 1. 데이터 입력 (예시 데이터)\n",
        "data = {\n",
        "    'Time': pd.date_range(start='2025-05-12 07:00', periods=10, freq='T'),\n",
        "    'HR':    [105, 110, 115, 125, 130, 140, 135, 120, 110, 100]\n",
        "}\n",
        "df = pd.DataFrame(data)\n",
        "\n",
        "# 2. 최대심박수(MHR) 계산\n",
        "age = 30  # 사용자 나이\n",
        "mhr = 220 - age\n",
        "\n",
        "# 3. Zone 2 구간 정의\n",
        "zone2_min = mhr * 0.60\n",
        "zone2_max = mhr * 0.70\n",
        "\n",
        "# 4. Zone 2 감지\n",
        "df['in_zone2'] = df['HR'].between(zone2_min, zone2_max)\n",
        "\n",
        "# 5. 구간 요약\n",
        "zone2_duration = df['in_zone2'].sum()  # Zone 2 지속 시간 (분)\n",
        "zone2_ratio    = df['in_zone2'].mean() # Zone 2 비율\n",
        "\n",
        "# 결과 출력\n",
        "print(f\"Max HR (MHR): {mhr} bpm\")\n",
        "print(f\"Zone 2 범위: {zone2_min:.1f} ~ {zone2_max:.1f} bpm\")\n",
        "print(f\"Zone 2 지속 시간: {zone2_duration}분\")\n",
        "print(f\"Zone 2 비율: {zone2_ratio:.1%}\")"
      ],
      "metadata": {
        "colab": {
          "base_uri": "https://localhost:8080/"
        },
        "id": "7BFgLec2-GBp",
        "outputId": "2ec5792c-c2d9-48b3-b039-ded9223866a0"
      },
      "execution_count": 1,
      "outputs": [
        {
          "output_type": "stream",
          "name": "stdout",
          "text": [
            "Max HR (MHR): 190 bpm\n",
            "Zone 2 범위: 114.0 ~ 133.0 bpm\n",
            "Zone 2 지속 시간: 4분\n",
            "Zone 2 비율: 40.0%\n"
          ]
        },
        {
          "output_type": "stream",
          "name": "stderr",
          "text": [
            "<ipython-input-1-f515ecd42f51>:5: FutureWarning: 'T' is deprecated and will be removed in a future version, please use 'min' instead.\n",
            "  'Time': pd.date_range(start='2025-05-12 07:00', periods=10, freq='T'),\n"
          ]
        }
      ]
    }
  ]
}