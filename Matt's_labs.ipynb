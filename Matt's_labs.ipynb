{
  "nbformat": 4,
  "nbformat_minor": 0,
  "metadata": {
    "colab": {
      "provenance": [],
      "mount_file_id": "1S-4J5EBOsCv9IVAimeDPs-5nR0s9aTwJ",
      "authorship_tag": "ABX9TyNsz6mK81J8dBNc8Tk/VHHv",
      "include_colab_link": true
    },
    "kernelspec": {
      "name": "python3",
      "display_name": "Python 3"
    },
    "language_info": {
      "name": "python"
    }
  },
  "cells": [
    {
      "cell_type": "markdown",
      "metadata": {
        "id": "view-in-github",
        "colab_type": "text"
      },
      "source": [
        "<a href=\"https://colab.research.google.com/github/Mattlee10/Matt_Labs/blob/main/Matt's_labs.ipynb\" target=\"_parent\"><img src=\"https://colab.research.google.com/assets/colab-badge.svg\" alt=\"Open In Colab\"/></a>"
      ]
    },
    {
      "cell_type": "markdown",
      "source": [
        "# 데이터 수집"
      ],
      "metadata": {
        "id": "8I36WPOuwYKt"
      }
    },
    {
      "cell_type": "code",
      "source": [
        "import xml.etree.ElementTree as ET\n",
        "import pandas as pd\n",
        "\n",
        "def parse_health_export(xml_path, record_types=None):\n",
        "    \"\"\"\n",
        "    Apple Health Export XML에서 원하는 Record Type만 추출\n",
        "    \"\"\"\n",
        "    tree = ET.parse(xml_path)\n",
        "    root = tree.getroot()\n",
        "    records = []\n",
        "\n",
        "    for rec in root.findall('Record'):\n",
        "        rtype = rec.get('type')\n",
        "        if record_types and rtype not in record_types:\n",
        "            continue\n",
        "        val = rec.get('value')\n",
        "        if val is None:\n",
        "            continue\n",
        "        records.append({\n",
        "            'type': rtype,\n",
        "            'value': float(val),\n",
        "            'unit': rec.get('unit'),\n",
        "            'start': pd.to_datetime(rec.get('startDate')),\n",
        "            'end': pd.to_datetime(rec.get('endDate'))\n",
        "        })\n",
        "\n",
        "    return pd.DataFrame(records)\n",
        "\n",
        "# XML 경로 설정 (Google Drive에서 마운트한 경로 또는 Colab 업로드 경로)\n",
        "xml_path = '/content/drive/MyDrive/export_L.xml'\n",
        "\n",
        "# 필요 Record Type 정의\n",
        "record_types = [\n",
        "    'HKQuantityTypeIdentifierHeartRate',\n",
        "    'HKQuantityTypeIdentifierRestingHeartRate',\n",
        "    'HKQuantityTypeIdentifierHeartRateVariabilitySDNN'\n",
        "]\n",
        "\n",
        "# 파싱 실행\n",
        "df = parse_health_export(xml_path, record_types=record_types)\n",
        "\n",
        "# 결과 미리보기\n",
        "print(df.head())"
      ],
      "metadata": {
        "colab": {
          "base_uri": "https://localhost:8080/"
        },
        "id": "YjLxSF8JwbEo",
        "outputId": "08c10002-7a01-4fbd-bd61-aff5106d79e2"
      },
      "execution_count": 1,
      "outputs": [
        {
          "output_type": "stream",
          "name": "stdout",
          "text": [
            "                                type    value       unit  \\\n",
            "0  HKQuantityTypeIdentifierHeartRate  80.0000  count/min   \n",
            "1  HKQuantityTypeIdentifierHeartRate  82.0000  count/min   \n",
            "2  HKQuantityTypeIdentifierHeartRate  88.0000  count/min   \n",
            "3  HKQuantityTypeIdentifierHeartRate  69.0000  count/min   \n",
            "4  HKQuantityTypeIdentifierHeartRate  81.6192  count/min   \n",
            "\n",
            "                      start                       end  \n",
            "0 2024-10-10 13:09:52+09:00 2024-10-10 13:09:52+09:00  \n",
            "1 2024-10-10 13:11:37+09:00 2024-10-10 13:11:37+09:00  \n",
            "2 2024-10-10 13:17:00+09:00 2024-10-10 13:17:00+09:00  \n",
            "3 2024-10-10 13:22:03+09:00 2024-10-10 13:22:03+09:00  \n",
            "4 2024-10-10 13:27:40+09:00 2024-10-10 13:27:40+09:00  \n"
          ]
        }
      ]
    },
    {
      "cell_type": "markdown",
      "source": [
        "# 데이터 전처리"
      ],
      "metadata": {
        "id": "fDwyVrqkwozB"
      }
    },
    {
      "cell_type": "markdown",
      "source": [
        "- 사용자 정보 입력 및 RHR 추정"
      ],
      "metadata": {
        "id": "hzosxH98w4f7"
      }
    },
    {
      "cell_type": "code",
      "source": [
        "# 사용자 정보\n",
        "age = 31  # 사용자 나이에 맞게 수정\n",
        "mhr = 220 - age  # 최대 심박수\n",
        "\n",
        "# 안정심박수 평균 계산\n",
        "rhr_df = df[df['type'] == 'HKQuantityTypeIdentifierRestingHeartRate']\n",
        "rhr = rhr_df['value'].mean()\n",
        "print(f\"평균 안정심박수 (RHR): {rhr:.2f} bpm\")"
      ],
      "metadata": {
        "colab": {
          "base_uri": "https://localhost:8080/"
        },
        "id": "2yMk-v9owqm5",
        "outputId": "1aa23d9f-765f-41a8-bb54-f2c96f27d8f5"
      },
      "execution_count": 2,
      "outputs": [
        {
          "output_type": "stream",
          "name": "stdout",
          "text": [
            "평균 안정심박수 (RHR): 57.39 bpm\n"
          ]
        }
      ]
    },
    {
      "cell_type": "markdown",
      "source": [
        "- 실시간 HR 데이터 필터링"
      ],
      "metadata": {
        "id": "7MfE5j8rw2Tk"
      }
    },
    {
      "cell_type": "code",
      "source": [
        "# 실시간 심박수만 필터링\n",
        "hr_df = df[df['type'] == 'HKQuantityTypeIdentifierHeartRate'].copy()\n",
        "\n",
        "# 확인\n",
        "print(f\"심박수 데이터 개수: {len(hr_df)}\")\n",
        "print(hr_df.head())"
      ],
      "metadata": {
        "colab": {
          "base_uri": "https://localhost:8080/"
        },
        "id": "O9aO2OGYwt63",
        "outputId": "2f3b0c69-db4f-4145-e0f8-e55ddc69faf2"
      },
      "execution_count": 3,
      "outputs": [
        {
          "output_type": "stream",
          "name": "stdout",
          "text": [
            "심박수 데이터 개수: 60299\n",
            "                                type    value       unit  \\\n",
            "0  HKQuantityTypeIdentifierHeartRate  80.0000  count/min   \n",
            "1  HKQuantityTypeIdentifierHeartRate  82.0000  count/min   \n",
            "2  HKQuantityTypeIdentifierHeartRate  88.0000  count/min   \n",
            "3  HKQuantityTypeIdentifierHeartRate  69.0000  count/min   \n",
            "4  HKQuantityTypeIdentifierHeartRate  81.6192  count/min   \n",
            "\n",
            "                      start                       end  \n",
            "0 2024-10-10 13:09:52+09:00 2024-10-10 13:09:52+09:00  \n",
            "1 2024-10-10 13:11:37+09:00 2024-10-10 13:11:37+09:00  \n",
            "2 2024-10-10 13:17:00+09:00 2024-10-10 13:17:00+09:00  \n",
            "3 2024-10-10 13:22:03+09:00 2024-10-10 13:22:03+09:00  \n",
            "4 2024-10-10 13:27:40+09:00 2024-10-10 13:27:40+09:00  \n"
          ]
        }
      ]
    },
    {
      "cell_type": "markdown",
      "source": [
        "- Karvonen 기반 운동강도 비율(%) 계산"
      ],
      "metadata": {
        "id": "780GxH_Xwzcf"
      }
    },
    {
      "cell_type": "code",
      "source": [
        "# 운동강도 비율(%) 계산\n",
        "hr_df['intensity_pct'] = ((hr_df['value'] - rhr) / (mhr - rhr)) * 100\n",
        "\n",
        "# 0~100%로 범위 제한\n",
        "hr_df['intensity_pct'] = hr_df['intensity_pct'].clip(lower=0, upper=100)\n",
        "\n",
        "# 샘플 확인\n",
        "print(hr_df[['start', 'value', 'intensity_pct']].head())"
      ],
      "metadata": {
        "colab": {
          "base_uri": "https://localhost:8080/"
        },
        "id": "mWfgYeZawxk-",
        "outputId": "4b08c633-e0a3-4e4b-b864-0c6b09f8fc6e"
      },
      "execution_count": 4,
      "outputs": [
        {
          "output_type": "stream",
          "name": "stdout",
          "text": [
            "                      start    value  intensity_pct\n",
            "0 2024-10-10 13:09:52+09:00  80.0000      17.181058\n",
            "1 2024-10-10 13:11:37+09:00  82.0000      18.700671\n",
            "2 2024-10-10 13:17:00+09:00  88.0000      23.259512\n",
            "3 2024-10-10 13:22:03+09:00  69.0000       8.823183\n",
            "4 2024-10-10 13:27:40+09:00  81.6192      18.411337\n"
          ]
        }
      ]
    },
    {
      "cell_type": "markdown",
      "source": [
        "- 10% 단위 구간 분류 및 머문 시간 비율 계산"
      ],
      "metadata": {
        "id": "RZ02Vw2VxAnc"
      }
    },
    {
      "cell_type": "code",
      "source": [
        "# 구간 정의\n",
        "import numpy as np\n",
        "bins = np.arange(0, 110, 10)\n",
        "labels = [f\"{i}~{i+10}%\" for i in bins[:-1]]\n",
        "\n",
        "# 구간별 분류\n",
        "hr_df['zone'] = pd.cut(hr_df['intensity_pct'], bins=bins, labels=labels, include_lowest=True)\n",
        "\n",
        "# 구간별 머문 비율 계산 (%)\n",
        "zone_pct = hr_df['zone'].value_counts(normalize=True).sort_index() * 100\n",
        "print(zone_pct)"
      ],
      "metadata": {
        "colab": {
          "base_uri": "https://localhost:8080/"
        },
        "id": "_LTr-Hxqw81D",
        "outputId": "d1d9a4b9-871e-4d0d-93ac-196bdac11709"
      },
      "execution_count": 5,
      "outputs": [
        {
          "output_type": "stream",
          "name": "stdout",
          "text": [
            "zone\n",
            "0~10%      26.255825\n",
            "10~20%     15.328612\n",
            "20~30%     20.705153\n",
            "30~40%     21.477968\n",
            "40~50%      9.343439\n",
            "50~60%      4.520805\n",
            "60~70%      1.504171\n",
            "70~80%      0.543956\n",
            "80~90%      0.150915\n",
            "90~100%     0.169157\n",
            "Name: proportion, dtype: float64\n"
          ]
        }
      ]
    },
    {
      "cell_type": "markdown",
      "source": [
        "# 시각화"
      ],
      "metadata": {
        "id": "b2OwgzfdyUF1"
      }
    },
    {
      "cell_type": "markdown",
      "source": [
        "- 날짜 필터링(4월 1일 - 4월 30일)"
      ],
      "metadata": {
        "id": "dQVG5xSPyWrb"
      }
    },
    {
      "cell_type": "code",
      "source": [
        "import pytz\n",
        "\n",
        "# 한국 시간대 객체 생성\n",
        "korea_tz = pytz.timezone(\"Asia/Seoul\")\n",
        "\n",
        "# tz-aware datetime으로 변환\n",
        "start_date = pd.Timestamp(\"2025-04-01\", tz=korea_tz)\n",
        "end_date = pd.Timestamp(\"2025-04-30 23:59:59\", tz=korea_tz)\n",
        "\n",
        "# 필터링\n",
        "hr_filtered = hr_df[(hr_df['start'] >= start_date) & (hr_df['start'] <= end_date)]"
      ],
      "metadata": {
        "id": "aofcqqe9ybe9"
      },
      "execution_count": 6,
      "outputs": []
    },
    {
      "cell_type": "markdown",
      "source": [
        "- 필터된 데이터로 구간별 비율 재계산"
      ],
      "metadata": {
        "id": "I4e5zmL3yj2d"
      }
    },
    {
      "cell_type": "code",
      "source": [
        "# 구간별 비율 재계산 (필터된 데이터 기반)\n",
        "zone_pct_filtered = hr_filtered['zone'].value_counts(normalize=True).sort_index() * 100\n",
        "print(zone_pct_filtered)"
      ],
      "metadata": {
        "colab": {
          "base_uri": "https://localhost:8080/"
        },
        "id": "nl11ZQVsyjYq",
        "outputId": "b93ccdb6-a526-4855-f829-74a433b4d053"
      },
      "execution_count": 7,
      "outputs": [
        {
          "output_type": "stream",
          "name": "stdout",
          "text": [
            "zone\n",
            "0~10%      15.640758\n",
            "10~20%     10.824204\n",
            "20~30%     19.779169\n",
            "30~40%     30.533820\n",
            "40~50%     15.345157\n",
            "50~60%      5.572944\n",
            "60~70%      1.764910\n",
            "70~80%      0.460789\n",
            "80~90%      0.078247\n",
            "90~100%     0.000000\n",
            "Name: proportion, dtype: float64\n"
          ]
        }
      ]
    },
    {
      "cell_type": "markdown",
      "source": [
        "- 시각화"
      ],
      "metadata": {
        "id": "HnKFJgjsyqn5"
      }
    },
    {
      "cell_type": "code",
      "source": [
        "import matplotlib.pyplot as plt\n",
        "\n",
        "plt.figure(figsize=(10, 5))\n",
        "zone_pct_filtered.plot(kind='bar')\n",
        "plt.title('운동강도 구간별 머무른 비율 (2025-05-18 ~ 2025-05-24)')\n",
        "plt.xlabel('운동강도 (%)')\n",
        "plt.ylabel('시간 비율 (%)')\n",
        "plt.ylim(0, 100)\n",
        "plt.grid(axis='y')\n",
        "plt.tight_layout()\n",
        "plt.show()"
      ],
      "metadata": {
        "colab": {
          "base_uri": "https://localhost:8080/",
          "height": 1000
        },
        "id": "UCtJIDMhyqO7",
        "outputId": "8e6c670d-00fa-44a0-f609-e1e0a6a6d399"
      },
      "execution_count": 8,
      "outputs": [
        {
          "output_type": "stream",
          "name": "stderr",
          "text": [
            "<ipython-input-8-6c2225420f79>:10: UserWarning: Glyph 50868 (\\N{HANGUL SYLLABLE UN}) missing from font(s) DejaVu Sans.\n",
            "  plt.tight_layout()\n",
            "<ipython-input-8-6c2225420f79>:10: UserWarning: Glyph 46041 (\\N{HANGUL SYLLABLE DONG}) missing from font(s) DejaVu Sans.\n",
            "  plt.tight_layout()\n",
            "<ipython-input-8-6c2225420f79>:10: UserWarning: Glyph 44053 (\\N{HANGUL SYLLABLE GANG}) missing from font(s) DejaVu Sans.\n",
            "  plt.tight_layout()\n",
            "<ipython-input-8-6c2225420f79>:10: UserWarning: Glyph 46020 (\\N{HANGUL SYLLABLE DO}) missing from font(s) DejaVu Sans.\n",
            "  plt.tight_layout()\n",
            "<ipython-input-8-6c2225420f79>:10: UserWarning: Glyph 49884 (\\N{HANGUL SYLLABLE SI}) missing from font(s) DejaVu Sans.\n",
            "  plt.tight_layout()\n",
            "<ipython-input-8-6c2225420f79>:10: UserWarning: Glyph 44036 (\\N{HANGUL SYLLABLE GAN}) missing from font(s) DejaVu Sans.\n",
            "  plt.tight_layout()\n",
            "<ipython-input-8-6c2225420f79>:10: UserWarning: Glyph 48708 (\\N{HANGUL SYLLABLE BI}) missing from font(s) DejaVu Sans.\n",
            "  plt.tight_layout()\n",
            "<ipython-input-8-6c2225420f79>:10: UserWarning: Glyph 50984 (\\N{HANGUL SYLLABLE YUL}) missing from font(s) DejaVu Sans.\n",
            "  plt.tight_layout()\n",
            "<ipython-input-8-6c2225420f79>:10: UserWarning: Glyph 44396 (\\N{HANGUL SYLLABLE GU}) missing from font(s) DejaVu Sans.\n",
            "  plt.tight_layout()\n",
            "<ipython-input-8-6c2225420f79>:10: UserWarning: Glyph 48324 (\\N{HANGUL SYLLABLE BYEOL}) missing from font(s) DejaVu Sans.\n",
            "  plt.tight_layout()\n",
            "<ipython-input-8-6c2225420f79>:10: UserWarning: Glyph 47672 (\\N{HANGUL SYLLABLE MEO}) missing from font(s) DejaVu Sans.\n",
            "  plt.tight_layout()\n",
            "<ipython-input-8-6c2225420f79>:10: UserWarning: Glyph 47924 (\\N{HANGUL SYLLABLE MU}) missing from font(s) DejaVu Sans.\n",
            "  plt.tight_layout()\n",
            "<ipython-input-8-6c2225420f79>:10: UserWarning: Glyph 47480 (\\N{HANGUL SYLLABLE REUN}) missing from font(s) DejaVu Sans.\n",
            "  plt.tight_layout()\n",
            "/usr/local/lib/python3.11/dist-packages/IPython/core/pylabtools.py:151: UserWarning: Glyph 49884 (\\N{HANGUL SYLLABLE SI}) missing from font(s) DejaVu Sans.\n",
            "  fig.canvas.print_figure(bytes_io, **kw)\n",
            "/usr/local/lib/python3.11/dist-packages/IPython/core/pylabtools.py:151: UserWarning: Glyph 44036 (\\N{HANGUL SYLLABLE GAN}) missing from font(s) DejaVu Sans.\n",
            "  fig.canvas.print_figure(bytes_io, **kw)\n",
            "/usr/local/lib/python3.11/dist-packages/IPython/core/pylabtools.py:151: UserWarning: Glyph 48708 (\\N{HANGUL SYLLABLE BI}) missing from font(s) DejaVu Sans.\n",
            "  fig.canvas.print_figure(bytes_io, **kw)\n",
            "/usr/local/lib/python3.11/dist-packages/IPython/core/pylabtools.py:151: UserWarning: Glyph 50984 (\\N{HANGUL SYLLABLE YUL}) missing from font(s) DejaVu Sans.\n",
            "  fig.canvas.print_figure(bytes_io, **kw)\n",
            "/usr/local/lib/python3.11/dist-packages/IPython/core/pylabtools.py:151: UserWarning: Glyph 50868 (\\N{HANGUL SYLLABLE UN}) missing from font(s) DejaVu Sans.\n",
            "  fig.canvas.print_figure(bytes_io, **kw)\n",
            "/usr/local/lib/python3.11/dist-packages/IPython/core/pylabtools.py:151: UserWarning: Glyph 46041 (\\N{HANGUL SYLLABLE DONG}) missing from font(s) DejaVu Sans.\n",
            "  fig.canvas.print_figure(bytes_io, **kw)\n",
            "/usr/local/lib/python3.11/dist-packages/IPython/core/pylabtools.py:151: UserWarning: Glyph 44053 (\\N{HANGUL SYLLABLE GANG}) missing from font(s) DejaVu Sans.\n",
            "  fig.canvas.print_figure(bytes_io, **kw)\n",
            "/usr/local/lib/python3.11/dist-packages/IPython/core/pylabtools.py:151: UserWarning: Glyph 46020 (\\N{HANGUL SYLLABLE DO}) missing from font(s) DejaVu Sans.\n",
            "  fig.canvas.print_figure(bytes_io, **kw)\n",
            "/usr/local/lib/python3.11/dist-packages/IPython/core/pylabtools.py:151: UserWarning: Glyph 44396 (\\N{HANGUL SYLLABLE GU}) missing from font(s) DejaVu Sans.\n",
            "  fig.canvas.print_figure(bytes_io, **kw)\n",
            "/usr/local/lib/python3.11/dist-packages/IPython/core/pylabtools.py:151: UserWarning: Glyph 48324 (\\N{HANGUL SYLLABLE BYEOL}) missing from font(s) DejaVu Sans.\n",
            "  fig.canvas.print_figure(bytes_io, **kw)\n",
            "/usr/local/lib/python3.11/dist-packages/IPython/core/pylabtools.py:151: UserWarning: Glyph 47672 (\\N{HANGUL SYLLABLE MEO}) missing from font(s) DejaVu Sans.\n",
            "  fig.canvas.print_figure(bytes_io, **kw)\n",
            "/usr/local/lib/python3.11/dist-packages/IPython/core/pylabtools.py:151: UserWarning: Glyph 47924 (\\N{HANGUL SYLLABLE MU}) missing from font(s) DejaVu Sans.\n",
            "  fig.canvas.print_figure(bytes_io, **kw)\n",
            "/usr/local/lib/python3.11/dist-packages/IPython/core/pylabtools.py:151: UserWarning: Glyph 47480 (\\N{HANGUL SYLLABLE REUN}) missing from font(s) DejaVu Sans.\n",
            "  fig.canvas.print_figure(bytes_io, **kw)\n"
          ]
        },
        {
          "output_type": "display_data",
          "data": {
            "text/plain": [
              "<Figure size 1000x500 with 1 Axes>"
            ],
            "image/png": "[encoded data removed]"
          },
          "metadata": {}
        }
      ]
    }
  ]
}